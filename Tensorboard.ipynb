{
 "cells": [
  {
   "cell_type": "code",
   "execution_count": 1,
   "metadata": {},
   "outputs": [],
   "source": [
    "import pandas as pd\n",
    "import numpy as np"
   ]
  },
  {
   "cell_type": "code",
   "execution_count": 2,
   "metadata": {},
   "outputs": [],
   "source": [
    "df = pd.read_csv('../DATA/cancer_classification.csv')"
   ]
  },
  {
   "cell_type": "markdown",
   "metadata": {},
   "source": [
    "### Train Test Split"
   ]
  },
  {
   "cell_type": "code",
   "execution_count": 3,
   "metadata": {},
   "outputs": [],
   "source": [
    "X = df.drop('benign_0__mal_1',axis=1).values\n",
    "y = df['benign_0__mal_1'].values"
   ]
  },
  {
   "cell_type": "code",
   "execution_count": 4,
   "metadata": {},
   "outputs": [],
   "source": [
    "from sklearn.model_selection import train_test_split"
   ]
  },
  {
   "cell_type": "code",
   "execution_count": 5,
   "metadata": {},
   "outputs": [],
   "source": [
    "X_train, X_test, y_train, y_test = train_test_split(X,y,test_size=0.25,random_state=101)"
   ]
  },
  {
   "cell_type": "markdown",
   "metadata": {},
   "source": [
    "\n",
    "### Scaling Data"
   ]
  },
  {
   "cell_type": "code",
   "execution_count": 6,
   "metadata": {},
   "outputs": [],
   "source": [
    "from sklearn.preprocessing import MinMaxScaler"
   ]
  },
  {
   "cell_type": "code",
   "execution_count": 7,
   "metadata": {},
   "outputs": [],
   "source": [
    "scaler = MinMaxScaler()"
   ]
  },
  {
   "cell_type": "code",
   "execution_count": 8,
   "metadata": {},
   "outputs": [
    {
     "data": {
      "text/plain": [
       "MinMaxScaler(copy=True, feature_range=(0, 1))"
      ]
     },
     "execution_count": 8,
     "metadata": {},
     "output_type": "execute_result"
    }
   ],
   "source": [
    "scaler.fit(X_train)"
   ]
  },
  {
   "cell_type": "code",
   "execution_count": 9,
   "metadata": {},
   "outputs": [],
   "source": [
    "X_train = scaler.transform(X_train)\n",
    "X_test = scaler.transform(X_test)"
   ]
  },
  {
   "cell_type": "markdown",
   "metadata": {},
   "source": [
    "## Creating the Model"
   ]
  },
  {
   "cell_type": "code",
   "execution_count": 10,
   "metadata": {},
   "outputs": [],
   "source": [
    "import tensorflow as tf\n",
    "from tensorflow.keras.models import Sequential\n",
    "from tensorflow.keras.layers import Dense, Activation,Dropout"
   ]
  },
  {
   "cell_type": "code",
   "execution_count": 11,
   "metadata": {},
   "outputs": [],
   "source": [
    "from tensorflow.keras.callbacks import EarlyStopping,TensorBoard"
   ]
  },
  {
   "cell_type": "code",
   "execution_count": 12,
   "metadata": {},
   "outputs": [],
   "source": [
    "early_stop = EarlyStopping(monitor='val_loss', mode='min', verbose=1, patience=25)"
   ]
  },
  {
   "cell_type": "markdown",
   "metadata": {},
   "source": [
    "## Creating the Tensorboard Callback\n",
    "\n",
    "TensorBoard is a visualization tool provided with TensorFlow.\n",
    "\n",
    "This callback logs events for TensorBoard, including:\n",
    "* Metrics summary plots\n",
    "* Training graph visualization\n",
    "* Activation histograms\n",
    "* Sampled profiling\n",
    "\n",
    "If you have installed TensorFlow with pip, you should be able\n",
    "to launch TensorBoard from the command line:\n",
    "\n",
    "```sh\n",
    "tensorboard --logdir=path_to_your_logs\n",
    "```\n",
    "\n",
    "You can find more information about TensorBoard\n",
    "[here](https://www.tensorflow.org/tensorboard/).\n",
    "\n",
    "    Arguments:\n",
    "        log_dir: the path of the directory where to save the log files to be\n",
    "          parsed by TensorBoard.\n",
    "        histogram_freq: frequency (in epochs) at which to compute activation and\n",
    "          weight histograms for the layers of the model. If set to 0, histograms\n",
    "          won't be computed. Validation data (or split) must be specified for\n",
    "          histogram visualizations.\n",
    "        write_graph: whether to visualize the graph in TensorBoard. The log file\n",
    "          can become quite large when write_graph is set to True.\n",
    "        write_images: whether to write model weights to visualize as image in\n",
    "          TensorBoard.\n",
    "        update_freq: `'batch'` or `'epoch'` or integer. When using `'batch'`,\n",
    "          writes the losses and metrics to TensorBoard after each batch. The same\n",
    "          applies for `'epoch'`. If using an integer, let's say `1000`, the\n",
    "          callback will write the metrics and losses to TensorBoard every 1000\n",
    "          samples. Note that writing too frequently to TensorBoard can slow down\n",
    "          your training.\n",
    "        profile_batch: Profile the batch to sample compute characteristics. By\n",
    "          default, it will profile the second batch. Set profile_batch=0 to\n",
    "          disable profiling. Must run in TensorFlow eager mode.\n",
    "        embeddings_freq: frequency (in epochs) at which embedding layers will\n",
    "          be visualized. If set to 0, embeddings won't be visualized.\n",
    "       "
   ]
  },
  {
   "cell_type": "code",
   "execution_count": 13,
   "metadata": {},
   "outputs": [],
   "source": [
    "from datetime import datetime"
   ]
  },
  {
   "cell_type": "code",
   "execution_count": 14,
   "metadata": {},
   "outputs": [
    {
     "data": {
      "text/plain": [
       "'2020-05-08--2110'"
      ]
     },
     "execution_count": 14,
     "metadata": {},
     "output_type": "execute_result"
    }
   ],
   "source": [
    "datetime.now().strftime(\"%Y-%m-%d--%H%M\")"
   ]
  },
  {
   "cell_type": "code",
   "execution_count": 15,
   "metadata": {},
   "outputs": [],
   "source": [
    "log_directory = 'logs/fit'\n",
    "timestamp = datetime.now().strftime(\"%Y-%m-%d--%H%M\")\n",
    "log_directory = log_directory + '/' + timestamp\n",
    "\n",
    "board = TensorBoard(log_dir=log_directory,histogram_freq=1,\n",
    "    write_graph=True,\n",
    "    write_images=True,\n",
    "    update_freq='epoch',\n",
    "    profile_batch=2,\n",
    "    embeddings_freq=1)"
   ]
  },
  {
   "cell_type": "markdown",
   "metadata": {},
   "source": [
    "Now create the model layers:"
   ]
  },
  {
   "cell_type": "code",
   "execution_count": 16,
   "metadata": {},
   "outputs": [],
   "source": [
    "model = Sequential()\n",
    "model.add(Dense(units=30,activation='relu'))\n",
    "model.add(Dropout(0.5))\n",
    "model.add(Dense(units=15,activation='relu'))\n",
    "model.add(Dropout(0.5))\n",
    "model.add(Dense(units=1,activation='sigmoid'))\n",
    "model.compile(loss='binary_crossentropy', optimizer='adam')"
   ]
  },
  {
   "cell_type": "markdown",
   "metadata": {},
   "source": [
    "## Train the Model"
   ]
  },
  {
   "cell_type": "code",
   "execution_count": 17,
   "metadata": {},
   "outputs": [
    {
     "name": "stdout",
     "output_type": "stream",
     "text": [
      "Train on 426 samples, validate on 143 samples\n",
      "Epoch 1/600\n",
      "426/426 [==============================] - 0s 1ms/sample - loss: 0.6906 - val_loss: 0.6806\n",
      "Epoch 2/600\n",
      "426/426 [==============================] - 0s 155us/sample - loss: 0.6738 - val_loss: 0.6618\n",
      "Epoch 3/600\n",
      "426/426 [==============================] - 0s 163us/sample - loss: 0.6672 - val_loss: 0.6439\n",
      "Epoch 4/600\n",
      "426/426 [==============================] - 0s 138us/sample - loss: 0.6541 - val_loss: 0.6271\n",
      "Epoch 5/600\n",
      "426/426 [==============================] - 0s 131us/sample - loss: 0.6201 - val_loss: 0.6100\n",
      "Epoch 6/600\n",
      "426/426 [==============================] - 0s 144us/sample - loss: 0.6135 - val_loss: 0.5739\n",
      "Epoch 7/600\n",
      "426/426 [==============================] - 0s 118us/sample - loss: 0.5895 - val_loss: 0.5406\n",
      "Epoch 8/600\n",
      "426/426 [==============================] - 0s 127us/sample - loss: 0.5889 - val_loss: 0.5168\n",
      "Epoch 9/600\n",
      "426/426 [==============================] - 0s 163us/sample - loss: 0.5338 - val_loss: 0.4909\n",
      "Epoch 10/600\n",
      "426/426 [==============================] - 0s 170us/sample - loss: 0.5136 - val_loss: 0.4642\n",
      "Epoch 11/600\n",
      "426/426 [==============================] - 0s 157us/sample - loss: 0.5151 - val_loss: 0.4364\n",
      "Epoch 12/600\n",
      "426/426 [==============================] - 0s 184us/sample - loss: 0.5047 - val_loss: 0.4128\n",
      "Epoch 13/600\n",
      "426/426 [==============================] - 0s 172us/sample - loss: 0.4582 - val_loss: 0.3874\n",
      "Epoch 14/600\n",
      "426/426 [==============================] - 0s 153us/sample - loss: 0.4312 - val_loss: 0.3606\n",
      "Epoch 15/600\n",
      "426/426 [==============================] - 0s 151us/sample - loss: 0.4161 - val_loss: 0.3325\n",
      "Epoch 16/600\n",
      "426/426 [==============================] - 0s 154us/sample - loss: 0.3943 - val_loss: 0.3058\n",
      "Epoch 17/600\n",
      "426/426 [==============================] - 0s 152us/sample - loss: 0.3922 - val_loss: 0.2875\n",
      "Epoch 18/600\n",
      "426/426 [==============================] - 0s 160us/sample - loss: 0.3712 - val_loss: 0.2753\n",
      "Epoch 19/600\n",
      "426/426 [==============================] - 0s 160us/sample - loss: 0.3573 - val_loss: 0.2618\n",
      "Epoch 20/600\n",
      "426/426 [==============================] - 0s 160us/sample - loss: 0.3427 - val_loss: 0.2441\n",
      "Epoch 21/600\n",
      "426/426 [==============================] - 0s 179us/sample - loss: 0.3437 - val_loss: 0.2351\n",
      "Epoch 22/600\n",
      "426/426 [==============================] - 0s 164us/sample - loss: 0.3288 - val_loss: 0.2220\n",
      "Epoch 23/600\n",
      "426/426 [==============================] - 0s 156us/sample - loss: 0.3090 - val_loss: 0.2118\n",
      "Epoch 24/600\n",
      "426/426 [==============================] - 0s 183us/sample - loss: 0.3070 - val_loss: 0.2019\n",
      "Epoch 25/600\n",
      "426/426 [==============================] - 0s 202us/sample - loss: 0.2839 - val_loss: 0.1924\n",
      "Epoch 26/600\n",
      "426/426 [==============================] - 0s 291us/sample - loss: 0.2740 - val_loss: 0.1834\n",
      "Epoch 27/600\n",
      "426/426 [==============================] - 0s 190us/sample - loss: 0.2733 - val_loss: 0.1838\n",
      "Epoch 28/600\n",
      "426/426 [==============================] - 0s 172us/sample - loss: 0.2926 - val_loss: 0.1783\n",
      "Epoch 29/600\n",
      "426/426 [==============================] - 0s 221us/sample - loss: 0.2769 - val_loss: 0.1754\n",
      "Epoch 30/600\n",
      "426/426 [==============================] - 0s 185us/sample - loss: 0.2496 - val_loss: 0.1652\n",
      "Epoch 31/600\n",
      "426/426 [==============================] - 0s 160us/sample - loss: 0.2320 - val_loss: 0.1569\n",
      "Epoch 32/600\n",
      "426/426 [==============================] - 0s 138us/sample - loss: 0.2488 - val_loss: 0.1470\n",
      "Epoch 33/600\n",
      "426/426 [==============================] - 0s 118us/sample - loss: 0.2373 - val_loss: 0.1458\n",
      "Epoch 34/600\n",
      "426/426 [==============================] - 0s 143us/sample - loss: 0.2383 - val_loss: 0.1404\n",
      "Epoch 35/600\n",
      "426/426 [==============================] - 0s 137us/sample - loss: 0.2561 - val_loss: 0.1395\n",
      "Epoch 36/600\n",
      "426/426 [==============================] - 0s 148us/sample - loss: 0.1962 - val_loss: 0.1348\n",
      "Epoch 37/600\n",
      "426/426 [==============================] - 0s 149us/sample - loss: 0.2155 - val_loss: 0.1315\n",
      "Epoch 38/600\n",
      "426/426 [==============================] - 0s 125us/sample - loss: 0.2041 - val_loss: 0.1280\n",
      "Epoch 39/600\n",
      "426/426 [==============================] - 0s 155us/sample - loss: 0.2192 - val_loss: 0.1272\n",
      "Epoch 40/600\n",
      "426/426 [==============================] - 0s 148us/sample - loss: 0.2232 - val_loss: 0.1221\n",
      "Epoch 41/600\n",
      "426/426 [==============================] - 0s 123us/sample - loss: 0.1906 - val_loss: 0.1253\n",
      "Epoch 42/600\n",
      "426/426 [==============================] - 0s 116us/sample - loss: 0.1949 - val_loss: 0.1238\n",
      "Epoch 43/600\n",
      "426/426 [==============================] - 0s 117us/sample - loss: 0.1858 - val_loss: 0.1130\n",
      "Epoch 44/600\n",
      "426/426 [==============================] - 0s 120us/sample - loss: 0.2034 - val_loss: 0.1166\n",
      "Epoch 45/600\n",
      "426/426 [==============================] - 0s 140us/sample - loss: 0.1721 - val_loss: 0.1136\n",
      "Epoch 46/600\n",
      "426/426 [==============================] - 0s 145us/sample - loss: 0.1513 - val_loss: 0.1174\n",
      "Epoch 47/600\n",
      "426/426 [==============================] - 0s 170us/sample - loss: 0.1890 - val_loss: 0.1080\n",
      "Epoch 48/600\n",
      "426/426 [==============================] - 0s 162us/sample - loss: 0.1676 - val_loss: 0.1174\n",
      "Epoch 49/600\n",
      "426/426 [==============================] - 0s 148us/sample - loss: 0.1796 - val_loss: 0.1069\n",
      "Epoch 50/600\n",
      "426/426 [==============================] - 0s 132us/sample - loss: 0.1667 - val_loss: 0.1025\n",
      "Epoch 51/600\n",
      "426/426 [==============================] - 0s 158us/sample - loss: 0.1832 - val_loss: 0.1044\n",
      "Epoch 52/600\n",
      "426/426 [==============================] - 0s 186us/sample - loss: 0.1689 - val_loss: 0.1088\n",
      "Epoch 53/600\n",
      "426/426 [==============================] - 0s 159us/sample - loss: 0.1566 - val_loss: 0.0999\n",
      "Epoch 54/600\n",
      "426/426 [==============================] - 0s 139us/sample - loss: 0.1620 - val_loss: 0.1186\n",
      "Epoch 55/600\n",
      "426/426 [==============================] - 0s 135us/sample - loss: 0.1621 - val_loss: 0.1015\n",
      "Epoch 56/600\n",
      "426/426 [==============================] - 0s 141us/sample - loss: 0.1565 - val_loss: 0.0991\n",
      "Epoch 57/600\n",
      "426/426 [==============================] - 0s 140us/sample - loss: 0.1373 - val_loss: 0.1128\n",
      "Epoch 58/600\n",
      "426/426 [==============================] - 0s 166us/sample - loss: 0.1297 - val_loss: 0.1103\n",
      "Epoch 59/600\n",
      "426/426 [==============================] - 0s 161us/sample - loss: 0.1440 - val_loss: 0.0934\n",
      "Epoch 60/600\n",
      "426/426 [==============================] - 0s 185us/sample - loss: 0.1514 - val_loss: 0.1013\n",
      "Epoch 61/600\n",
      "426/426 [==============================] - 0s 150us/sample - loss: 0.1403 - val_loss: 0.1007\n",
      "Epoch 62/600\n",
      "426/426 [==============================] - 0s 136us/sample - loss: 0.1287 - val_loss: 0.0940\n",
      "Epoch 63/600\n",
      "426/426 [==============================] - 0s 166us/sample - loss: 0.1433 - val_loss: 0.1002\n",
      "Epoch 64/600\n",
      "426/426 [==============================] - 0s 164us/sample - loss: 0.1433 - val_loss: 0.0911\n",
      "Epoch 65/600\n",
      "426/426 [==============================] - 0s 283us/sample - loss: 0.1308 - val_loss: 0.1080\n",
      "Epoch 66/600\n",
      "426/426 [==============================] - 0s 345us/sample - loss: 0.1285 - val_loss: 0.1009\n",
      "Epoch 67/600\n",
      "426/426 [==============================] - 0s 175us/sample - loss: 0.1174 - val_loss: 0.0880\n",
      "Epoch 68/600\n",
      "426/426 [==============================] - 0s 134us/sample - loss: 0.1399 - val_loss: 0.0887\n",
      "Epoch 69/600\n",
      "426/426 [==============================] - 0s 181us/sample - loss: 0.1152 - val_loss: 0.0983\n",
      "Epoch 70/600\n",
      "426/426 [==============================] - 0s 161us/sample - loss: 0.1185 - val_loss: 0.0971\n",
      "Epoch 71/600\n",
      "426/426 [==============================] - 0s 151us/sample - loss: 0.1391 - val_loss: 0.0879\n",
      "Epoch 72/600\n",
      "426/426 [==============================] - 0s 125us/sample - loss: 0.1205 - val_loss: 0.0906\n",
      "Epoch 73/600\n",
      "426/426 [==============================] - 0s 153us/sample - loss: 0.1160 - val_loss: 0.0888\n",
      "Epoch 74/600\n",
      "426/426 [==============================] - 0s 212us/sample - loss: 0.1109 - val_loss: 0.0866\n",
      "Epoch 75/600\n",
      "426/426 [==============================] - 0s 292us/sample - loss: 0.1168 - val_loss: 0.0914\n",
      "Epoch 76/600\n",
      "426/426 [==============================] - 0s 175us/sample - loss: 0.1028 - val_loss: 0.0959\n",
      "Epoch 77/600\n",
      "426/426 [==============================] - 0s 161us/sample - loss: 0.1243 - val_loss: 0.0882\n"
     ]
    },
    {
     "name": "stdout",
     "output_type": "stream",
     "text": [
      "Epoch 78/600\n",
      "426/426 [==============================] - 0s 139us/sample - loss: 0.1119 - val_loss: 0.0915\n",
      "Epoch 79/600\n",
      "426/426 [==============================] - 0s 132us/sample - loss: 0.1098 - val_loss: 0.0959\n",
      "Epoch 80/600\n",
      "426/426 [==============================] - 0s 144us/sample - loss: 0.1202 - val_loss: 0.0923\n",
      "Epoch 81/600\n",
      "426/426 [==============================] - 0s 154us/sample - loss: 0.1199 - val_loss: 0.0868\n",
      "Epoch 82/600\n",
      "426/426 [==============================] - 0s 151us/sample - loss: 0.1212 - val_loss: 0.0836\n",
      "Epoch 83/600\n",
      "426/426 [==============================] - 0s 155us/sample - loss: 0.1307 - val_loss: 0.1144\n",
      "Epoch 84/600\n",
      "426/426 [==============================] - 0s 146us/sample - loss: 0.1162 - val_loss: 0.0863\n",
      "Epoch 85/600\n",
      "426/426 [==============================] - 0s 177us/sample - loss: 0.1002 - val_loss: 0.0909\n",
      "Epoch 86/600\n",
      "426/426 [==============================] - 0s 130us/sample - loss: 0.1109 - val_loss: 0.0804\n",
      "Epoch 87/600\n",
      "426/426 [==============================] - 0s 141us/sample - loss: 0.1024 - val_loss: 0.0816\n",
      "Epoch 88/600\n",
      "426/426 [==============================] - 0s 177us/sample - loss: 0.1016 - val_loss: 0.0931\n",
      "Epoch 89/600\n",
      "426/426 [==============================] - 0s 168us/sample - loss: 0.1042 - val_loss: 0.1027\n",
      "Epoch 90/600\n",
      "426/426 [==============================] - 0s 153us/sample - loss: 0.1150 - val_loss: 0.0827\n",
      "Epoch 91/600\n",
      "426/426 [==============================] - 0s 156us/sample - loss: 0.1149 - val_loss: 0.0931\n",
      "Epoch 92/600\n",
      "426/426 [==============================] - 0s 149us/sample - loss: 0.1296 - val_loss: 0.0820\n",
      "Epoch 93/600\n",
      "426/426 [==============================] - 0s 134us/sample - loss: 0.1311 - val_loss: 0.0994\n",
      "Epoch 94/600\n",
      "426/426 [==============================] - 0s 139us/sample - loss: 0.1126 - val_loss: 0.0982\n",
      "Epoch 95/600\n",
      "426/426 [==============================] - 0s 139us/sample - loss: 0.1107 - val_loss: 0.0793\n",
      "Epoch 96/600\n",
      "426/426 [==============================] - 0s 141us/sample - loss: 0.0989 - val_loss: 0.1044\n",
      "Epoch 97/600\n",
      "426/426 [==============================] - 0s 156us/sample - loss: 0.0937 - val_loss: 0.0927\n",
      "Epoch 98/600\n",
      "426/426 [==============================] - 0s 153us/sample - loss: 0.1091 - val_loss: 0.0962\n",
      "Epoch 99/600\n",
      "426/426 [==============================] - 0s 163us/sample - loss: 0.0953 - val_loss: 0.0861\n",
      "Epoch 100/600\n",
      "426/426 [==============================] - 0s 156us/sample - loss: 0.1025 - val_loss: 0.0836\n",
      "Epoch 101/600\n",
      "426/426 [==============================] - 0s 160us/sample - loss: 0.1120 - val_loss: 0.0939\n",
      "Epoch 102/600\n",
      "426/426 [==============================] - 0s 151us/sample - loss: 0.0861 - val_loss: 0.0873\n",
      "Epoch 103/600\n",
      "426/426 [==============================] - 0s 141us/sample - loss: 0.1054 - val_loss: 0.0824\n",
      "Epoch 104/600\n",
      "426/426 [==============================] - 0s 160us/sample - loss: 0.1086 - val_loss: 0.0967\n",
      "Epoch 105/600\n",
      "426/426 [==============================] - 0s 159us/sample - loss: 0.0939 - val_loss: 0.0863\n",
      "Epoch 106/600\n",
      "426/426 [==============================] - 0s 155us/sample - loss: 0.0748 - val_loss: 0.0982\n",
      "Epoch 107/600\n",
      "426/426 [==============================] - 0s 162us/sample - loss: 0.0960 - val_loss: 0.0874\n",
      "Epoch 108/600\n",
      "426/426 [==============================] - 0s 167us/sample - loss: 0.1049 - val_loss: 0.0952\n",
      "Epoch 109/600\n",
      "426/426 [==============================] - 0s 160us/sample - loss: 0.0881 - val_loss: 0.0891\n",
      "Epoch 110/600\n",
      "426/426 [==============================] - 0s 135us/sample - loss: 0.1042 - val_loss: 0.0976\n",
      "Epoch 111/600\n",
      "426/426 [==============================] - 0s 127us/sample - loss: 0.0843 - val_loss: 0.1002\n",
      "Epoch 112/600\n",
      "426/426 [==============================] - 0s 129us/sample - loss: 0.1074 - val_loss: 0.0832\n",
      "Epoch 113/600\n",
      "426/426 [==============================] - 0s 134us/sample - loss: 0.0975 - val_loss: 0.1294\n",
      "Epoch 114/600\n",
      "426/426 [==============================] - 0s 130us/sample - loss: 0.1108 - val_loss: 0.0944\n",
      "Epoch 115/600\n",
      "426/426 [==============================] - 0s 159us/sample - loss: 0.1146 - val_loss: 0.0995\n",
      "Epoch 116/600\n",
      "426/426 [==============================] - 0s 171us/sample - loss: 0.0904 - val_loss: 0.0959\n",
      "Epoch 117/600\n",
      "426/426 [==============================] - 0s 263us/sample - loss: 0.0972 - val_loss: 0.0891\n",
      "Epoch 118/600\n",
      "426/426 [==============================] - 0s 480us/sample - loss: 0.0855 - val_loss: 0.0880\n",
      "Epoch 119/600\n",
      "426/426 [==============================] - 0s 203us/sample - loss: 0.1068 - val_loss: 0.0845\n",
      "Epoch 120/600\n",
      "426/426 [==============================] - 0s 198us/sample - loss: 0.0807 - val_loss: 0.0910\n",
      "Epoch 00120: early stopping\n"
     ]
    },
    {
     "data": {
      "text/plain": [
       "<tensorflow.python.keras.callbacks.History at 0x13e9555c0>"
      ]
     },
     "execution_count": 17,
     "metadata": {},
     "output_type": "execute_result"
    }
   ],
   "source": [
    "model.fit(x=X_train, \n",
    "          y=y_train, \n",
    "          epochs=600,\n",
    "          validation_data=(X_test, y_test), verbose=1,\n",
    "          callbacks=[early_stop,board]\n",
    "          )"
   ]
  },
  {
   "cell_type": "markdown",
   "metadata": {},
   "source": [
    "# Running Tensorboard\n"
   ]
  },
  {
   "cell_type": "markdown",
   "metadata": {},
   "source": [
    "## Running through the Command Line\n",
    "\n",
    "**Watch video to see how to run Tensorboard through a command line call.**"
   ]
  },
  {
   "cell_type": "markdown",
   "metadata": {},
   "source": [
    "Tensorboard will run locally in your browser at [http://localhost:6006/](http://localhost:6006/)\n"
   ]
  },
  {
   "cell_type": "code",
   "execution_count": 18,
   "metadata": {},
   "outputs": [
    {
     "name": "stdout",
     "output_type": "stream",
     "text": [
      "logs/fit/2020-05-08--2110\n"
     ]
    }
   ],
   "source": [
    "print(log_directory)"
   ]
  },
  {
   "cell_type": "code",
   "execution_count": 21,
   "metadata": {},
   "outputs": [
    {
     "name": "stdout",
     "output_type": "stream",
     "text": [
      "Traceback (most recent call last):\r\n",
      "  File \"/Users/nathzi1505/Desktop/Private/Online-Courses/TF_2.0/venv/bin/tensorboard\", line 7, in <module>\r\n",
      "    from tensorboard.main import run_main\r\n",
      "  File \"/Users/nathzi1505/Desktop/Private/Online-Courses/TF_2.0/venv/lib/python3.6/site-packages/tensorboard/main.py\", line 44, in <module>\r\n",
      "    from tensorboard.uploader import uploader_main\r\n",
      "  File \"/Users/nathzi1505/Desktop/Private/Online-Courses/TF_2.0/venv/lib/python3.6/site-packages/tensorboard/uploader/uploader_main.py\", line 30, in <module>\r\n",
      "    import grpc\r\n",
      "  File \"/Users/nathzi1505/Desktop/Private/Online-Courses/TF_2.0/venv/lib/python3.6/site-packages/grpc/__init__.py\", line 23, in <module>\r\n",
      "    from grpc._cython import cygrpc as _cygrpc\r\n",
      "ImportError: cannot import name 'cygrpc'\r\n"
     ]
    }
   ],
   "source": [
    "!tensorboard --logdir logs/fit/2020-05-08--2110"
   ]
  }
 ],
 "metadata": {
  "kernelspec": {
   "display_name": "Python 3",
   "language": "python",
   "name": "python3"
  },
  "language_info": {
   "codemirror_mode": {
    "name": "ipython",
    "version": 3
   },
   "file_extension": ".py",
   "mimetype": "text/x-python",
   "name": "python",
   "nbconvert_exporter": "python",
   "pygments_lexer": "ipython3",
   "version": "3.6.8"
  }
 },
 "nbformat": 4,
 "nbformat_minor": 2
}
